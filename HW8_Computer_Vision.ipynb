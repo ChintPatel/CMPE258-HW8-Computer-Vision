{
  "nbformat": 4,
  "nbformat_minor": 0,
  "metadata": {
    "colab": {
      "provenance": [],
      "authorship_tag": "ABX9TyMqikl4lwBfkBBlt7uJGcyH",
      "include_colab_link": true
    },
    "kernelspec": {
      "name": "python3",
      "display_name": "Python 3"
    },
    "language_info": {
      "name": "python"
    }
  },
  "cells": [
    {
      "cell_type": "markdown",
      "metadata": {
        "id": "view-in-github",
        "colab_type": "text"
      },
      "source": [
        "<a href=\"https://colab.research.google.com/github/ChintPatel/CMPE258-HW8-Computer-Vision/blob/main/HW8_Computer_Vision.ipynb\" target=\"_parent\"><img src=\"https://colab.research.google.com/assets/colab-badge.svg\" alt=\"Open In Colab\"/></a>"
      ]
    },
    {
      "cell_type": "code",
      "source": [
        "# ─── CELL 1: no pip installs ───\n",
        "import tensorflow as tf\n",
        "import numpy as np\n",
        "import matplotlib.pyplot as plt\n",
        "\n",
        "# Custom supervised contrastive loss (from Keras example)\n",
        "class SupervisedContrastiveLoss(tf.keras.losses.Loss):\n",
        "    def __init__(self, temperature=0.1, name=None):\n",
        "        super().__init__(name=name)\n",
        "        self.temperature = temperature\n",
        "\n",
        "    def call(self, labels, feature_vectors):\n",
        "        # normalize embeddings\n",
        "        features = tf.math.l2_normalize(feature_vectors, axis=1)\n",
        "        # cosine similarity matrix\n",
        "        logits = tf.matmul(features, features, transpose_b=True) / self.temperature\n",
        "\n",
        "        # mask to zero out self-comparisons\n",
        "        labels = tf.squeeze(labels)\n",
        "        mask = tf.cast(tf.equal(tf.expand_dims(labels,1), tf.expand_dims(labels,0)), tf.float32)\n",
        "        logits_mask = tf.ones_like(mask) - tf.eye(tf.shape(labels)[0])\n",
        "        mask *= logits_mask\n",
        "\n",
        "        # log‐softmax over rows\n",
        "        exp_logits = tf.exp(logits) * logits_mask\n",
        "        log_prob = logits - tf.math.log(tf.reduce_sum(exp_logits, axis=1, keepdims=True))\n",
        "\n",
        "        # mean log‐prob of positive pairs\n",
        "        mean_log_prob_pos = tf.reduce_sum(mask * log_prob, axis=1) / tf.reduce_sum(mask, axis=1)\n",
        "        loss = -tf.reduce_mean(mean_log_prob_pos)\n",
        "        return loss\n",
        "\n",
        "# Prepare MNIST\n",
        "(x_train, y_train), (x_test, y_test) = tf.keras.datasets.mnist.load_data()\n",
        "x_train = x_train[...,None]/255.0; x_test = x_test[...,None]/255.0\n",
        "x_train, y_train = x_train[:10000], y_train[:10000]\n",
        "x_test, y_test   = x_test[:2000],   y_test[:2000]\n",
        "y_train_sc = y_train.reshape(-1,1)\n",
        "\n",
        "# Base encoder\n",
        "def get_base():\n",
        "    return tf.keras.Sequential([\n",
        "        tf.keras.layers.Conv2D(32,3,activation='relu',input_shape=(28,28,1)),\n",
        "        tf.keras.layers.Flatten(),\n",
        "        tf.keras.layers.Dense(128,activation='relu'),\n",
        "    ])\n",
        "\n",
        "# 1) Softmax model\n",
        "soft = tf.keras.Sequential(get_base().layers + [tf.keras.layers.Dense(10)])\n",
        "soft.compile(\n",
        "    loss=tf.keras.losses.SparseCategoricalCrossentropy(from_logits=True),\n",
        "    optimizer='adam',\n",
        "    metrics=['accuracy']\n",
        ")\n",
        "soft.fit(x_train, y_train, epochs=3, validation_data=(x_test, y_test))\n",
        "\n",
        "# 2) Contrastive model\n",
        "contrastive = tf.keras.Sequential([\n",
        "    get_base(),\n",
        "    tf.keras.layers.Dense(128)  # projection head\n",
        "])\n",
        "contrastive.compile(\n",
        "    optimizer='adam',\n",
        "    loss=SupervisedContrastiveLoss(temperature=0.1),\n",
        ")\n",
        "contrastive.fit(x_train, y_train_sc, epochs=3, batch_size=128)\n",
        "\n",
        "# Plot Softmax accuracy\n",
        "plt.plot(soft.history.history['accuracy'], label='train acc')\n",
        "plt.plot(soft.history.history['val_accuracy'], label='val acc')\n",
        "plt.legend(); plt.show()\n"
      ],
      "metadata": {
        "colab": {
          "base_uri": "https://localhost:8080/",
          "height": 693
        },
        "id": "fiPJsVZosXO7",
        "outputId": "8b7a1c0d-c12b-4d37-912a-ee7f4604854f"
      },
      "execution_count": 2,
      "outputs": [
        {
          "output_type": "stream",
          "name": "stderr",
          "text": [
            "/usr/local/lib/python3.11/dist-packages/keras/src/layers/convolutional/base_conv.py:107: UserWarning: Do not pass an `input_shape`/`input_dim` argument to a layer. When using Sequential models, prefer using an `Input(shape)` object as the first layer in the model instead.\n",
            "  super().__init__(activity_regularizer=activity_regularizer, **kwargs)\n"
          ]
        },
        {
          "output_type": "stream",
          "name": "stdout",
          "text": [
            "Epoch 1/3\n",
            "\u001b[1m313/313\u001b[0m \u001b[32m━━━━━━━━━━━━━━━━━━━━\u001b[0m\u001b[37m\u001b[0m \u001b[1m20s\u001b[0m 51ms/step - accuracy: 0.8282 - loss: 0.5599 - val_accuracy: 0.9415 - val_loss: 0.1812\n",
            "Epoch 2/3\n",
            "\u001b[1m313/313\u001b[0m \u001b[32m━━━━━━━━━━━━━━━━━━━━\u001b[0m\u001b[37m\u001b[0m \u001b[1m15s\u001b[0m 48ms/step - accuracy: 0.9754 - loss: 0.0863 - val_accuracy: 0.9510 - val_loss: 0.1509\n",
            "Epoch 3/3\n",
            "\u001b[1m313/313\u001b[0m \u001b[32m━━━━━━━━━━━━━━━━━━━━\u001b[0m\u001b[37m\u001b[0m \u001b[1m14s\u001b[0m 45ms/step - accuracy: 0.9907 - loss: 0.0368 - val_accuracy: 0.9545 - val_loss: 0.1439\n",
            "Epoch 1/3\n",
            "\u001b[1m79/79\u001b[0m \u001b[32m━━━━━━━━━━━━━━━━━━━━\u001b[0m\u001b[37m\u001b[0m \u001b[1m9s\u001b[0m 101ms/step - loss: nan   \n",
            "Epoch 2/3\n",
            "\u001b[1m79/79\u001b[0m \u001b[32m━━━━━━━━━━━━━━━━━━━━\u001b[0m\u001b[37m\u001b[0m \u001b[1m11s\u001b[0m 105ms/step - loss: nan\n",
            "Epoch 3/3\n",
            "\u001b[1m79/79\u001b[0m \u001b[32m━━━━━━━━━━━━━━━━━━━━\u001b[0m\u001b[37m\u001b[0m \u001b[1m9s\u001b[0m 93ms/step - loss: nan\n"
          ]
        },
        {
          "output_type": "display_data",
          "data": {
            "text/plain": [
              "<Figure size 640x480 with 1 Axes>"
            ],
            "image/png": "[encoded data removed]"
          },
          "metadata": {}
        }
      ]
    },
    {
      "cell_type": "code",
      "source": [
        "# ─── CELL A: Install TF-Hub & Transformers ───\n",
        "!pip install -q tensorflow_hub transformers\n"
      ],
      "metadata": {
        "id": "glccqvDusvyV"
      },
      "execution_count": 3,
      "outputs": []
    },
    {
      "cell_type": "code",
      "source": [
        "# ─── CELL B: PART 2 – IMAGE TRANSFER LEARNING (CIFAR-10) ───\n",
        "import tensorflow as tf\n",
        "import numpy as np\n",
        "\n",
        "# 1) Load CIFAR-10 into fresh vars\n",
        "(xc_train, yc_train), (xc_test, yc_test) = tf.keras.datasets.cifar10.load_data()\n",
        "\n",
        "# 2) Preprocess & cast\n",
        "x_train_img = xc_train.astype('float32')[:5000] / 255.0\n",
        "y_train_img = yc_train.astype('int32')[:5000].squeeze()\n",
        "x_val_img   = xc_test .astype('float32')[:1000] / 255.0\n",
        "y_val_img   = yc_test .astype('int32')[:1000].squeeze()\n",
        "\n",
        "# Confirm dtypes\n",
        "print(\"x_train:\", x_train_img.dtype, \"y_train:\", y_train_img.dtype)\n",
        "\n",
        "# 3) Build MobileNetV2-based classifier\n",
        "base = tf.keras.applications.MobileNetV2(\n",
        "    input_shape=(32,32,3), include_top=False,\n",
        "    weights='imagenet', pooling='avg'\n",
        ")\n",
        "base.trainable = False\n",
        "\n",
        "model_img = tf.keras.Sequential([\n",
        "    tf.keras.layers.InputLayer(input_shape=(32,32,3)),\n",
        "    base,\n",
        "    tf.keras.layers.Dense(10)\n",
        "])\n",
        "model_img.compile(\n",
        "    optimizer='adam',\n",
        "    loss='sparse_categorical_crossentropy',\n",
        "    metrics=['accuracy']\n",
        ")\n",
        "\n",
        "# 4) Feature-extraction training\n",
        "model_img.fit(\n",
        "    x_train_img, y_train_img,\n",
        "    epochs=2, batch_size=64,\n",
        "    validation_data=(x_val_img, y_val_img)\n",
        ")\n",
        "\n",
        "# 5) Fine-tune last 20 layers\n",
        "base.trainable = True\n",
        "for layer in base.layers[:-20]:\n",
        "    layer.trainable = False\n",
        "\n",
        "model_img.compile(\n",
        "    optimizer=tf.keras.optimizers.Adam(1e-5),\n",
        "    loss='sparse_categorical_crossentropy',\n",
        "    metrics=['accuracy']\n",
        ")\n",
        "model_img.fit(\n",
        "    x_train_img, y_train_img,\n",
        "    epochs=2, batch_size=64,\n",
        "    validation_data=(x_val_img, y_val_img)\n",
        ")\n",
        "\n",
        "\n",
        "\n",
        "# 2.2 Audio – YAMNet embeddings\n",
        "yamnet = hub.load('https://tfhub.dev/google/yamnet/1')\n",
        "fake_audio = np.random.uniform(-1,1,16000).astype(np.float32)\n",
        "scores, embeddings, spec = yamnet(fake_audio)\n",
        "print('YAMNet embeddings →', embeddings.shape)\n",
        "\n",
        "\n",
        "\n",
        "# 2.4 NLP – Universal Sentence Encoder\n",
        "use = hub.load('https://tfhub.dev/google/universal-sentence-encoder/4')\n",
        "texts = [\"TensorFlow is great!\", \"Transfer learning demo\"]\n",
        "text_emb = use(texts)\n",
        "print('Text embeddings →', text_emb.shape)\n"
      ],
      "metadata": {
        "colab": {
          "base_uri": "https://localhost:8080/"
        },
        "id": "NBt9lkdAsxMq",
        "outputId": "65ffd3e5-b363-4737-9314-aec132f70244"
      },
      "execution_count": 7,
      "outputs": [
        {
          "output_type": "stream",
          "name": "stdout",
          "text": [
            "x_train: float32 y_train: int32\n"
          ]
        },
        {
          "output_type": "stream",
          "name": "stderr",
          "text": [
            "<ipython-input-7-926b950d9fbf>:18: UserWarning: `input_shape` is undefined or non-square, or `rows` is not in [96, 128, 160, 192, 224]. Weights for input shape (224, 224) will be loaded as the default.\n",
            "  base = tf.keras.applications.MobileNetV2(\n"
          ]
        },
        {
          "output_type": "stream",
          "name": "stdout",
          "text": [
            "Epoch 1/2\n",
            "\u001b[1m79/79\u001b[0m \u001b[32m━━━━━━━━━━━━━━━━━━━━\u001b[0m\u001b[37m\u001b[0m \u001b[1m14s\u001b[0m 98ms/step - accuracy: 0.1120 - loss: 7.3608 - val_accuracy: 0.1650 - val_loss: 5.3268\n",
            "Epoch 2/2\n",
            "\u001b[1m79/79\u001b[0m \u001b[32m━━━━━━━━━━━━━━━━━━━━\u001b[0m\u001b[37m\u001b[0m \u001b[1m4s\u001b[0m 56ms/step - accuracy: 0.1866 - loss: 5.0295 - val_accuracy: 0.1870 - val_loss: 4.1541\n",
            "Epoch 1/2\n",
            "\u001b[1m79/79\u001b[0m \u001b[32m━━━━━━━━━━━━━━━━━━━━\u001b[0m\u001b[37m\u001b[0m \u001b[1m22s\u001b[0m 162ms/step - accuracy: 0.1068 - loss: 10.7015 - val_accuracy: 0.1700 - val_loss: 4.4617\n",
            "Epoch 2/2\n",
            "\u001b[1m79/79\u001b[0m \u001b[32m━━━━━━━━━━━━━━━━━━━━\u001b[0m\u001b[37m\u001b[0m \u001b[1m10s\u001b[0m 131ms/step - accuracy: 0.1190 - loss: 10.3075 - val_accuracy: 0.1460 - val_loss: 5.3948\n",
            "YAMNet embeddings → (2, 1024)\n",
            "Text embeddings → (2, 512)\n"
          ]
        }
      ]
    },
    {
      "cell_type": "code",
      "source": [
        "# ─── CELL C: PART 3 – ZERO-SHOT CLIP & SOTA MINI DEMO ───\n",
        "import tensorflow as tf\n",
        "import tensorflow_hub as hub\n",
        "from transformers import CLIPProcessor, CLIPModel\n",
        "from PIL import Image\n",
        "import requests\n",
        "import numpy as np\n",
        "\n",
        "# 3.1 Zero-shot CLIP (same as before)\n",
        "clip_model     = CLIPModel.from_pretrained(\"openai/clip-vit-base-patch16\")\n",
        "clip_processor = CLIPProcessor.from_pretrained(\"openai/clip-vit-base-patch16\")\n",
        "\n",
        "url = \"https://upload.wikimedia.org/wikipedia/commons/4/47/PNG_transparency_demonstration_1.png\"\n",
        "img = Image.open(requests.get(url, stream=True).raw).convert(\"RGB\").resize((224,224))\n",
        "\n",
        "inputs = clip_processor(\n",
        "    text=[\"a cat\",\"a dog\",\"a PNG image\"],\n",
        "    images=img,\n",
        "    return_tensors=\"pt\", padding=True\n",
        ")\n",
        "out   = clip_model(**inputs)\n",
        "probs = out.logits_per_image.softmax(dim=1)\n",
        "print(\"CLIP probs →\", probs.tolist())\n",
        "\n",
        "# 3.2 EfficientNetB0 – train on 500 CIFAR samples @96×96\n",
        "# 1) Reload & cast CIFAR\n",
        "(xc_full, yc_full), _ = tf.keras.datasets.cifar10.load_data()\n",
        "xc = xc_full[:500].astype('float32')  / 255.0\n",
        "yc = yc_full[:500].astype('int32').squeeze()\n",
        "\n",
        "print(\"After casting:\", xc.dtype, yc.dtype)\n",
        "# Should print: float32, int32\n",
        "\n",
        "# 2) Build the model (96×96 mini‐version)\n",
        "model_en = tf.keras.Sequential([\n",
        "    tf.keras.layers.Resizing(96,96),\n",
        "    tf.keras.applications.EfficientNetB0(\n",
        "        include_top=False,\n",
        "        weights='imagenet',\n",
        "        pooling='avg'\n",
        "    ),\n",
        "    tf.keras.layers.Dense(10, activation='softmax')\n",
        "])\n",
        "model_en.compile(\n",
        "    optimizer='adam',\n",
        "    loss='sparse_categorical_crossentropy',\n",
        "    metrics=['accuracy']\n",
        ")\n",
        "\n",
        "# 3) Wrap in a Dataset to guarantee dtypes\n",
        "ds = tf.data.Dataset.from_tensor_slices((xc, yc))\\\n",
        "                   .shuffle(500).batch(16)\n",
        "\n",
        "# 4) Train\n",
        "model_en.fit(ds, epochs=1, verbose=2)\n",
        "print(\"EfficientNet mini‐train done\")\n",
        "\n",
        "# 3.3 BiT-S R50x1 – inference only on one random image\n",
        "bit_layer = hub.KerasLayer(\n",
        "    \"https://tfhub.dev/google/bit/s-r50x1/1\",\n",
        "    trainable=False\n",
        ")\n",
        "sample = tf.random.normal([1,224,224,3])\n",
        "feats  = bit_layer(sample)\n",
        "print(\"BiT embedding shape →\", feats.shape)\n"
      ],
      "metadata": {
        "colab": {
          "base_uri": "https://localhost:8080/"
        },
        "id": "7MyFXCVsszM4",
        "outputId": "4f745204-0d19-4c47-a07d-961f46eea2b5"
      },
      "execution_count": 2,
      "outputs": [
        {
          "output_type": "stream",
          "name": "stdout",
          "text": [
            "CLIP probs → [[0.0004993799957446754, 0.0012223446974530816, 0.9982782602310181]]\n",
            "After casting: float32 int32\n",
            "32/32 - 79s - 2s/step - accuracy: 0.3900 - loss: 1.7647\n",
            "EfficientNet mini‐train done\n",
            "BiT embedding shape → (1, 2048)\n"
          ]
        }
      ]
    },
    {
      "cell_type": "code",
      "source": [
        "# ─── CELL D: PART 4 – X-RAY & 3D CT DEMOS (synthetic data) ───\n",
        "import tensorflow as tf\n",
        "import numpy as np\n",
        "\n",
        "# 4.1 X-ray pneumonia classification (2D convnet on fake data)\n",
        "# ------------------------------------------------------------\n",
        "# create 1,000 random \"grayscale X-ray\" images (128×128) and binary labels\n",
        "X2d = np.random.rand(1000, 128, 128, 1).astype('float32')\n",
        "y2d = np.random.randint(0, 2, size=(1000,))\n",
        "\n",
        "# train/test split\n",
        "x2d_train, y2d_train = X2d[:800], y2d[:800]\n",
        "x2d_val,   y2d_val   = X2d[800:], y2d[800:]\n",
        "\n",
        "model2d = tf.keras.Sequential([\n",
        "    tf.keras.layers.Conv2D(16, 3, activation='relu', input_shape=(128,128,1)),\n",
        "    tf.keras.layers.MaxPooling2D(),\n",
        "    tf.keras.layers.Conv2D(32, 3, activation='relu'),\n",
        "    tf.keras.layers.MaxPooling2D(),\n",
        "    tf.keras.layers.Flatten(),\n",
        "    tf.keras.layers.Dense(64, activation='relu'),\n",
        "    tf.keras.layers.Dense(1, activation='sigmoid')\n",
        "])\n",
        "model2d.compile(\n",
        "    optimizer='adam',\n",
        "    loss=tf.keras.losses.BinaryCrossentropy(),\n",
        "    metrics=['accuracy']\n",
        ")\n",
        "print(\"Training 2D X-ray pneumonia convnet on synthetic data…\")\n",
        "model2d.fit(\n",
        "    x2d_train, y2d_train,\n",
        "    epochs=3,\n",
        "    validation_data=(x2d_val, y2d_val)\n",
        ")\n",
        "\n",
        "\n",
        "# 4.2 3D CT-scan classification (3D convnet on fake volumes)\n",
        "# ------------------------------------------------------------\n",
        "# create 200 random \"3D CT volumes\" (32×32×32) and binary labels\n",
        "X3d = np.random.rand(200, 32, 32, 32, 1).astype('float32')\n",
        "y3d = np.random.randint(0, 2, size=(200,))\n",
        "\n",
        "# train/test split\n",
        "x3d_train, y3d_train = X3d[:160], y3d[:160]\n",
        "x3d_val,   y3d_val   = X3d[160:], y3d[160:]\n",
        "\n",
        "model3d = tf.keras.Sequential([\n",
        "    tf.keras.layers.Conv3D(8, 3, activation='relu', input_shape=(32,32,32,1)),\n",
        "    tf.keras.layers.MaxPooling3D(),\n",
        "    tf.keras.layers.Conv3D(16, 3, activation='relu'),\n",
        "    tf.keras.layers.MaxPooling3D(),\n",
        "    tf.keras.layers.Flatten(),\n",
        "    tf.keras.layers.Dense(32, activation='relu'),\n",
        "    tf.keras.layers.Dense(1, activation='sigmoid')\n",
        "])\n",
        "model3d.compile(\n",
        "    optimizer='adam',\n",
        "    loss=tf.keras.losses.BinaryCrossentropy(),\n",
        "    metrics=['accuracy']\n",
        ")\n",
        "print(\"\\nTraining 3D CT-scan convnet on synthetic volumes…\")\n",
        "model3d.fit(\n",
        "    x3d_train, y3d_train,\n",
        "    epochs=3,\n",
        "    validation_data=(x3d_val, y3d_val)\n",
        ")\n"
      ],
      "metadata": {
        "colab": {
          "base_uri": "https://localhost:8080/"
        },
        "id": "qriTTBw9v0tG",
        "outputId": "bf437467-7565-4c02-dd61-f5ce4bdbc77f"
      },
      "execution_count": 3,
      "outputs": [
        {
          "output_type": "stream",
          "name": "stderr",
          "text": [
            "/usr/local/lib/python3.11/dist-packages/keras/src/layers/convolutional/base_conv.py:107: UserWarning: Do not pass an `input_shape`/`input_dim` argument to a layer. When using Sequential models, prefer using an `Input(shape)` object as the first layer in the model instead.\n",
            "  super().__init__(activity_regularizer=activity_regularizer, **kwargs)\n"
          ]
        },
        {
          "output_type": "stream",
          "name": "stdout",
          "text": [
            "Training 2D X-ray pneumonia convnet on synthetic data…\n",
            "Epoch 1/3\n",
            "\u001b[1m25/25\u001b[0m \u001b[32m━━━━━━━━━━━━━━━━━━━━\u001b[0m\u001b[37m\u001b[0m \u001b[1m10s\u001b[0m 318ms/step - accuracy: 0.5062 - loss: 0.7936 - val_accuracy: 0.4750 - val_loss: 0.6942\n",
            "Epoch 2/3\n",
            "\u001b[1m25/25\u001b[0m \u001b[32m━━━━━━━━━━━━━━━━━━━━\u001b[0m\u001b[37m\u001b[0m \u001b[1m9s\u001b[0m 346ms/step - accuracy: 0.5230 - loss: 0.6926 - val_accuracy: 0.4750 - val_loss: 0.6954\n",
            "Epoch 3/3\n",
            "\u001b[1m25/25\u001b[0m \u001b[32m━━━━━━━━━━━━━━━━━━━━\u001b[0m\u001b[37m\u001b[0m \u001b[1m10s\u001b[0m 344ms/step - accuracy: 0.5130 - loss: 0.6913 - val_accuracy: 0.5250 - val_loss: 0.6921\n",
            "\n",
            "Training 3D CT-scan convnet on synthetic volumes…\n",
            "Epoch 1/3\n",
            "\u001b[1m5/5\u001b[0m \u001b[32m━━━━━━━━━━━━━━━━━━━━\u001b[0m\u001b[37m\u001b[0m \u001b[1m9s\u001b[0m 2s/step - accuracy: 0.5030 - loss: 0.8624 - val_accuracy: 0.5750 - val_loss: 0.6930\n",
            "Epoch 2/3\n",
            "\u001b[1m5/5\u001b[0m \u001b[32m━━━━━━━━━━━━━━━━━━━━\u001b[0m\u001b[37m\u001b[0m \u001b[1m7s\u001b[0m 1s/step - accuracy: 0.5306 - loss: 0.6932 - val_accuracy: 0.5250 - val_loss: 0.6922\n",
            "Epoch 3/3\n",
            "\u001b[1m5/5\u001b[0m \u001b[32m━━━━━━━━━━━━━━━━━━━━\u001b[0m\u001b[37m\u001b[0m \u001b[1m11s\u001b[0m 1s/step - accuracy: 0.4989 - loss: 0.6931 - val_accuracy: 0.4000 - val_loss: 0.6965\n"
          ]
        },
        {
          "output_type": "execute_result",
          "data": {
            "text/plain": [
              "<keras.src.callbacks.history.History at 0x791140c25450>"
            ]
          },
          "metadata": {},
          "execution_count": 3
        }
      ]
    }
  ]
}